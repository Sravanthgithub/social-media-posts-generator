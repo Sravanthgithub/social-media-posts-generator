{
 "cells": [
  {
   "attachments": {},
   "cell_type": "markdown",
   "metadata": {},
   "source": [
    "# Demo of Using it as API"
   ]
  },
  {
   "cell_type": "code",
   "execution_count": null,
   "metadata": {},
   "outputs": [],
   "source": [
    "!pip install gradio_client pillow"
   ]
  },
  {
   "cell_type": "code",
   "execution_count": 7,
   "metadata": {},
   "outputs": [
    {
     "name": "stdout",
     "output_type": "stream",
     "text": [
      "Loaded as API: https://sravanth-social-media-post-generator.hf.space/ ✔\n"
     ]
    },
    {
     "ename": "ConnectionClosedError",
     "evalue": "no close frame received or sent",
     "output_type": "error",
     "traceback": [
      "\u001b[0;31m---------------------------------------------------------------------------\u001b[0m",
      "\u001b[0;31mConnectionResetError\u001b[0m                      Traceback (most recent call last)",
      "File \u001b[0;32m~/.local/lib/python3.8/site-packages/websockets/legacy/protocol.py:959\u001b[0m, in \u001b[0;36mWebSocketCommonProtocol.transfer_data\u001b[0;34m(self)\u001b[0m\n\u001b[1;32m    958\u001b[0m \u001b[39mwhile\u001b[39;00m \u001b[39mTrue\u001b[39;00m:\n\u001b[0;32m--> 959\u001b[0m     message \u001b[39m=\u001b[39m \u001b[39mawait\u001b[39;00m \u001b[39mself\u001b[39m\u001b[39m.\u001b[39mread_message()\n\u001b[1;32m    961\u001b[0m     \u001b[39m# Exit the loop when receiving a close frame.\u001b[39;00m\n",
      "File \u001b[0;32m~/.local/lib/python3.8/site-packages/websockets/legacy/protocol.py:1029\u001b[0m, in \u001b[0;36mWebSocketCommonProtocol.read_message\u001b[0;34m(self)\u001b[0m\n\u001b[1;32m   1021\u001b[0m \u001b[39m\u001b[39m\u001b[39m\"\"\"\u001b[39;00m\n\u001b[1;32m   1022\u001b[0m \u001b[39mRead a single message from the connection.\u001b[39;00m\n\u001b[1;32m   1023\u001b[0m \n\u001b[0;32m   (...)\u001b[0m\n\u001b[1;32m   1027\u001b[0m \n\u001b[1;32m   1028\u001b[0m \u001b[39m\"\"\"\u001b[39;00m\n\u001b[0;32m-> 1029\u001b[0m frame \u001b[39m=\u001b[39m \u001b[39mawait\u001b[39;00m \u001b[39mself\u001b[39m\u001b[39m.\u001b[39mread_data_frame(max_size\u001b[39m=\u001b[39m\u001b[39mself\u001b[39m\u001b[39m.\u001b[39mmax_size)\n\u001b[1;32m   1031\u001b[0m \u001b[39m# A close frame was received.\u001b[39;00m\n",
      "File \u001b[0;32m~/.local/lib/python3.8/site-packages/websockets/legacy/protocol.py:1104\u001b[0m, in \u001b[0;36mWebSocketCommonProtocol.read_data_frame\u001b[0;34m(self, max_size)\u001b[0m\n\u001b[1;32m   1103\u001b[0m \u001b[39mwhile\u001b[39;00m \u001b[39mTrue\u001b[39;00m:\n\u001b[0;32m-> 1104\u001b[0m     frame \u001b[39m=\u001b[39m \u001b[39mawait\u001b[39;00m \u001b[39mself\u001b[39m\u001b[39m.\u001b[39mread_frame(max_size)\n\u001b[1;32m   1106\u001b[0m     \u001b[39m# 5.5. Control Frames\u001b[39;00m\n",
      "File \u001b[0;32m~/.local/lib/python3.8/site-packages/websockets/legacy/protocol.py:1161\u001b[0m, in \u001b[0;36mWebSocketCommonProtocol.read_frame\u001b[0;34m(self, max_size)\u001b[0m\n\u001b[1;32m   1157\u001b[0m \u001b[39m\u001b[39m\u001b[39m\"\"\"\u001b[39;00m\n\u001b[1;32m   1158\u001b[0m \u001b[39mRead a single frame from the connection.\u001b[39;00m\n\u001b[1;32m   1159\u001b[0m \n\u001b[1;32m   1160\u001b[0m \u001b[39m\"\"\"\u001b[39;00m\n\u001b[0;32m-> 1161\u001b[0m frame \u001b[39m=\u001b[39m \u001b[39mawait\u001b[39;00m Frame\u001b[39m.\u001b[39mread(\n\u001b[1;32m   1162\u001b[0m     \u001b[39mself\u001b[39m\u001b[39m.\u001b[39mreader\u001b[39m.\u001b[39mreadexactly,\n\u001b[1;32m   1163\u001b[0m     mask\u001b[39m=\u001b[39m\u001b[39mnot\u001b[39;00m \u001b[39mself\u001b[39m\u001b[39m.\u001b[39mis_client,\n\u001b[1;32m   1164\u001b[0m     max_size\u001b[39m=\u001b[39mmax_size,\n\u001b[1;32m   1165\u001b[0m     extensions\u001b[39m=\u001b[39m\u001b[39mself\u001b[39m\u001b[39m.\u001b[39mextensions,\n\u001b[1;32m   1166\u001b[0m )\n\u001b[1;32m   1167\u001b[0m \u001b[39mif\u001b[39;00m \u001b[39mself\u001b[39m\u001b[39m.\u001b[39mdebug:\n",
      "File \u001b[0;32m~/.local/lib/python3.8/site-packages/websockets/legacy/framing.py:68\u001b[0m, in \u001b[0;36mFrame.read\u001b[0;34m(cls, reader, mask, max_size, extensions)\u001b[0m\n\u001b[1;32m     67\u001b[0m \u001b[39m# Read the header.\u001b[39;00m\n\u001b[0;32m---> 68\u001b[0m data \u001b[39m=\u001b[39m \u001b[39mawait\u001b[39;00m reader(\u001b[39m2\u001b[39m)\n\u001b[1;32m     69\u001b[0m head1, head2 \u001b[39m=\u001b[39m struct\u001b[39m.\u001b[39munpack(\u001b[39m\"\u001b[39m\u001b[39m!BB\u001b[39m\u001b[39m\"\u001b[39m, data)\n",
      "File \u001b[0;32m/usr/lib/python3.8/asyncio/streams.py:723\u001b[0m, in \u001b[0;36mStreamReader.readexactly\u001b[0;34m(self, n)\u001b[0m\n\u001b[1;32m    721\u001b[0m         \u001b[39mraise\u001b[39;00m exceptions\u001b[39m.\u001b[39mIncompleteReadError(incomplete, n)\n\u001b[0;32m--> 723\u001b[0m     \u001b[39mawait\u001b[39;00m \u001b[39mself\u001b[39m\u001b[39m.\u001b[39m_wait_for_data(\u001b[39m'\u001b[39m\u001b[39mreadexactly\u001b[39m\u001b[39m'\u001b[39m)\n\u001b[1;32m    725\u001b[0m \u001b[39mif\u001b[39;00m \u001b[39mlen\u001b[39m(\u001b[39mself\u001b[39m\u001b[39m.\u001b[39m_buffer) \u001b[39m==\u001b[39m n:\n",
      "File \u001b[0;32m/usr/lib/python3.8/asyncio/streams.py:517\u001b[0m, in \u001b[0;36mStreamReader._wait_for_data\u001b[0;34m(self, func_name)\u001b[0m\n\u001b[1;32m    516\u001b[0m \u001b[39mtry\u001b[39;00m:\n\u001b[0;32m--> 517\u001b[0m     \u001b[39mawait\u001b[39;00m \u001b[39mself\u001b[39m\u001b[39m.\u001b[39m_waiter\n\u001b[1;32m    518\u001b[0m \u001b[39mfinally\u001b[39;00m:\n",
      "File \u001b[0;32m/usr/lib/python3.8/asyncio/selector_events.py:848\u001b[0m, in \u001b[0;36m_SelectorSocketTransport._read_ready__data_received\u001b[0;34m(self)\u001b[0m\n\u001b[1;32m    847\u001b[0m \u001b[39mtry\u001b[39;00m:\n\u001b[0;32m--> 848\u001b[0m     data \u001b[39m=\u001b[39m \u001b[39mself\u001b[39;49m\u001b[39m.\u001b[39;49m_sock\u001b[39m.\u001b[39;49mrecv(\u001b[39mself\u001b[39;49m\u001b[39m.\u001b[39;49mmax_size)\n\u001b[1;32m    849\u001b[0m \u001b[39mexcept\u001b[39;00m (\u001b[39mBlockingIOError\u001b[39;00m, \u001b[39mInterruptedError\u001b[39;00m):\n",
      "\u001b[0;31mConnectionResetError\u001b[0m: [Errno 104] Connection reset by peer",
      "\nThe above exception was the direct cause of the following exception:\n",
      "\u001b[0;31mConnectionClosedError\u001b[0m                     Traceback (most recent call last)",
      "Cell \u001b[0;32mIn[7], line 4\u001b[0m\n\u001b[1;32m      2\u001b[0m \u001b[39mfrom\u001b[39;00m \u001b[39mgradio_client\u001b[39;00m \u001b[39mimport\u001b[39;00m Client\n\u001b[1;32m      3\u001b[0m client \u001b[39m=\u001b[39m Client(\u001b[39m\"\u001b[39m\u001b[39mhttps://sravanth-social-media-post-generator.hf.space/\u001b[39m\u001b[39m\"\u001b[39m)\n\u001b[0;32m----> 4\u001b[0m result \u001b[39m=\u001b[39m client\u001b[39m.\u001b[39;49mpredict(\n\u001b[1;32m      5\u001b[0m \t\t\t\t\u001b[39m\"\u001b[39;49m\u001b[39mMemes\u001b[39;49m\u001b[39m\"\u001b[39;49m,\t\u001b[39m# str (Option from: ['Memes', 'Jokes', 'Slogans', 'Inspirational Quotes']) in 'Category' Dropdown component\u001b[39;49;00m\n\u001b[1;32m      6\u001b[0m \t\t\t\t\u001b[39m\"\u001b[39;49m\u001b[39mA kid crying just after returning from school\u001b[39;49m\u001b[39m\"\u001b[39;49m,\t\u001b[39m# str  in 'Image Description/prompt' Textbox component\u001b[39;49;00m\n\u001b[1;32m      7\u001b[0m \t\t\t\t\u001b[39m\"\u001b[39;49m\u001b[39mBad results\u001b[39;49m\u001b[39m\"\u001b[39;49m,\t\u001b[39m# str  in 'Theme' Textbox component\u001b[39;49;00m\n\u001b[1;32m      8\u001b[0m \t\t\t\t\u001b[39m\"\u001b[39;49m\u001b[39mtop\u001b[39;49m\u001b[39m\"\u001b[39;49m,\t\u001b[39m# str (Option from: ['top', 'bottom']) in 'text_position' Dropdown component\u001b[39;49;00m\n\u001b[1;32m      9\u001b[0m \t\t\t\tfn_index\u001b[39m=\u001b[39;49m\u001b[39m0\u001b[39;49m\n\u001b[1;32m     10\u001b[0m )\n\u001b[1;32m     12\u001b[0m image_path \u001b[39m=\u001b[39m result[\u001b[39m0\u001b[39m]\n\u001b[1;32m     13\u001b[0m image \u001b[39m=\u001b[39m Image\u001b[39m.\u001b[39mopen(image_path)\n",
      "File \u001b[0;32m~/.local/lib/python3.8/site-packages/gradio_client/client.py:272\u001b[0m, in \u001b[0;36mClient.predict\u001b[0;34m(self, api_name, fn_index, *args)\u001b[0m\n\u001b[1;32m    251\u001b[0m \u001b[39mdef\u001b[39;00m \u001b[39mpredict\u001b[39m(\n\u001b[1;32m    252\u001b[0m     \u001b[39mself\u001b[39m,\n\u001b[1;32m    253\u001b[0m     \u001b[39m*\u001b[39margs,\n\u001b[1;32m    254\u001b[0m     api_name: \u001b[39mstr\u001b[39m \u001b[39m|\u001b[39m \u001b[39mNone\u001b[39;00m \u001b[39m=\u001b[39m \u001b[39mNone\u001b[39;00m,\n\u001b[1;32m    255\u001b[0m     fn_index: \u001b[39mint\u001b[39m \u001b[39m|\u001b[39m \u001b[39mNone\u001b[39;00m \u001b[39m=\u001b[39m \u001b[39mNone\u001b[39;00m,\n\u001b[1;32m    256\u001b[0m ) \u001b[39m-\u001b[39m\u001b[39m>\u001b[39m Any:\n\u001b[1;32m    257\u001b[0m \u001b[39m    \u001b[39m\u001b[39m\"\"\"\u001b[39;00m\n\u001b[1;32m    258\u001b[0m \u001b[39m    Calls the Gradio API and returns the result (this is a blocking call).\u001b[39;00m\n\u001b[1;32m    259\u001b[0m \n\u001b[0;32m   (...)\u001b[0m\n\u001b[1;32m    270\u001b[0m \u001b[39m        >> 9.0\u001b[39;00m\n\u001b[1;32m    271\u001b[0m \u001b[39m    \"\"\"\u001b[39;00m\n\u001b[0;32m--> 272\u001b[0m     \u001b[39mreturn\u001b[39;00m \u001b[39mself\u001b[39;49m\u001b[39m.\u001b[39;49msubmit(\u001b[39m*\u001b[39;49margs, api_name\u001b[39m=\u001b[39;49mapi_name, fn_index\u001b[39m=\u001b[39;49mfn_index)\u001b[39m.\u001b[39;49mresult()\n",
      "File \u001b[0;32m~/.local/lib/python3.8/site-packages/gradio_client/client.py:967\u001b[0m, in \u001b[0;36mJob.result\u001b[0;34m(self, timeout)\u001b[0m\n\u001b[1;32m    965\u001b[0m     \u001b[39mraise\u001b[39;00m \u001b[39mTimeoutError\u001b[39;00m()\n\u001b[1;32m    966\u001b[0m \u001b[39mif\u001b[39;00m \u001b[39mself\u001b[39m\u001b[39m.\u001b[39mfuture\u001b[39m.\u001b[39m_exception:  \u001b[39m# type: ignore\u001b[39;00m\n\u001b[0;32m--> 967\u001b[0m     \u001b[39mraise\u001b[39;00m \u001b[39mself\u001b[39m\u001b[39m.\u001b[39mfuture\u001b[39m.\u001b[39m_exception  \u001b[39m# type: ignore\u001b[39;00m\n\u001b[1;32m    968\u001b[0m \u001b[39mwith\u001b[39;00m \u001b[39mself\u001b[39m\u001b[39m.\u001b[39mcommunicator\u001b[39m.\u001b[39mlock:\n\u001b[1;32m    969\u001b[0m     \u001b[39mif\u001b[39;00m \u001b[39mself\u001b[39m\u001b[39m.\u001b[39mcommunicator\u001b[39m.\u001b[39mjob\u001b[39m.\u001b[39moutputs:\n",
      "File \u001b[0;32m/usr/lib/python3.8/concurrent/futures/thread.py:57\u001b[0m, in \u001b[0;36m_WorkItem.run\u001b[0;34m(self)\u001b[0m\n\u001b[1;32m     54\u001b[0m     \u001b[39mreturn\u001b[39;00m\n\u001b[1;32m     56\u001b[0m \u001b[39mtry\u001b[39;00m:\n\u001b[0;32m---> 57\u001b[0m     result \u001b[39m=\u001b[39m \u001b[39mself\u001b[39;49m\u001b[39m.\u001b[39;49mfn(\u001b[39m*\u001b[39;49m\u001b[39mself\u001b[39;49m\u001b[39m.\u001b[39;49margs, \u001b[39m*\u001b[39;49m\u001b[39m*\u001b[39;49m\u001b[39mself\u001b[39;49m\u001b[39m.\u001b[39;49mkwargs)\n\u001b[1;32m     58\u001b[0m \u001b[39mexcept\u001b[39;00m \u001b[39mBaseException\u001b[39;00m \u001b[39mas\u001b[39;00m exc:\n\u001b[1;32m     59\u001b[0m     \u001b[39mself\u001b[39m\u001b[39m.\u001b[39mfuture\u001b[39m.\u001b[39mset_exception(exc)\n",
      "File \u001b[0;32m~/.local/lib/python3.8/site-packages/gradio_client/client.py:630\u001b[0m, in \u001b[0;36mEndpoint.make_end_to_end_fn.<locals>._inner\u001b[0;34m(*data)\u001b[0m\n\u001b[1;32m    628\u001b[0m \u001b[39mif\u001b[39;00m \u001b[39mself\u001b[39m\u001b[39m.\u001b[39mclient\u001b[39m.\u001b[39mserialize:\n\u001b[1;32m    629\u001b[0m     data \u001b[39m=\u001b[39m \u001b[39mself\u001b[39m\u001b[39m.\u001b[39mserialize(\u001b[39m*\u001b[39mdata)\n\u001b[0;32m--> 630\u001b[0m predictions \u001b[39m=\u001b[39m _predict(\u001b[39m*\u001b[39;49mdata)\n\u001b[1;32m    631\u001b[0m predictions \u001b[39m=\u001b[39m \u001b[39mself\u001b[39m\u001b[39m.\u001b[39mprocess_predictions(\u001b[39m*\u001b[39mpredictions)\n\u001b[1;32m    632\u001b[0m \u001b[39m# Append final output only if not already present\u001b[39;00m\n\u001b[1;32m    633\u001b[0m \u001b[39m# for consistency between generators and not generators\u001b[39;00m\n",
      "File \u001b[0;32m~/.local/lib/python3.8/site-packages/gradio_client/client.py:659\u001b[0m, in \u001b[0;36mEndpoint.make_predict.<locals>._predict\u001b[0;34m(*data)\u001b[0m\n\u001b[1;32m    651\u001b[0m hash_data \u001b[39m=\u001b[39m json\u001b[39m.\u001b[39mdumps(\n\u001b[1;32m    652\u001b[0m     {\n\u001b[1;32m    653\u001b[0m         \u001b[39m\"\u001b[39m\u001b[39mfn_index\u001b[39m\u001b[39m\"\u001b[39m: \u001b[39mself\u001b[39m\u001b[39m.\u001b[39mfn_index,\n\u001b[1;32m    654\u001b[0m         \u001b[39m\"\u001b[39m\u001b[39msession_hash\u001b[39m\u001b[39m\"\u001b[39m: \u001b[39mself\u001b[39m\u001b[39m.\u001b[39mclient\u001b[39m.\u001b[39msession_hash,\n\u001b[1;32m    655\u001b[0m     }\n\u001b[1;32m    656\u001b[0m )\n\u001b[1;32m    658\u001b[0m \u001b[39mif\u001b[39;00m \u001b[39mself\u001b[39m\u001b[39m.\u001b[39muse_ws:\n\u001b[0;32m--> 659\u001b[0m     result \u001b[39m=\u001b[39m utils\u001b[39m.\u001b[39;49msynchronize_async(\u001b[39mself\u001b[39;49m\u001b[39m.\u001b[39;49m_ws_fn, data, hash_data, helper)\n\u001b[1;32m    660\u001b[0m     \u001b[39mif\u001b[39;00m \u001b[39m\"\u001b[39m\u001b[39merror\u001b[39m\u001b[39m\"\u001b[39m \u001b[39min\u001b[39;00m result:\n\u001b[1;32m    661\u001b[0m         \u001b[39mraise\u001b[39;00m \u001b[39mValueError\u001b[39;00m(result[\u001b[39m\"\u001b[39m\u001b[39merror\u001b[39m\u001b[39m\"\u001b[39m])\n",
      "File \u001b[0;32m~/.local/lib/python3.8/site-packages/gradio_client/utils.py:479\u001b[0m, in \u001b[0;36msynchronize_async\u001b[0;34m(func, *args, **kwargs)\u001b[0m\n\u001b[1;32m    466\u001b[0m \u001b[39mdef\u001b[39;00m \u001b[39msynchronize_async\u001b[39m(func: Callable, \u001b[39m*\u001b[39margs, \u001b[39m*\u001b[39m\u001b[39m*\u001b[39mkwargs) \u001b[39m-\u001b[39m\u001b[39m>\u001b[39m Any:\n\u001b[1;32m    467\u001b[0m \u001b[39m    \u001b[39m\u001b[39m\"\"\"\u001b[39;00m\n\u001b[1;32m    468\u001b[0m \u001b[39m    Runs async functions in sync scopes. Can be used in any scope.\u001b[39;00m\n\u001b[1;32m    469\u001b[0m \n\u001b[0;32m   (...)\u001b[0m\n\u001b[1;32m    477\u001b[0m \u001b[39m        **kwargs:\u001b[39;00m\n\u001b[1;32m    478\u001b[0m \u001b[39m    \"\"\"\u001b[39;00m\n\u001b[0;32m--> 479\u001b[0m     \u001b[39mreturn\u001b[39;00m fsspec\u001b[39m.\u001b[39;49masyn\u001b[39m.\u001b[39;49msync(fsspec\u001b[39m.\u001b[39;49masyn\u001b[39m.\u001b[39;49mget_loop(), func, \u001b[39m*\u001b[39;49margs, \u001b[39m*\u001b[39;49m\u001b[39m*\u001b[39;49mkwargs)\n",
      "File \u001b[0;32m~/.local/lib/python3.8/site-packages/fsspec/asyn.py:106\u001b[0m, in \u001b[0;36msync\u001b[0;34m(loop, func, timeout, *args, **kwargs)\u001b[0m\n\u001b[1;32m    104\u001b[0m     \u001b[39mraise\u001b[39;00m FSTimeoutError \u001b[39mfrom\u001b[39;00m \u001b[39mreturn_result\u001b[39;00m\n\u001b[1;32m    105\u001b[0m \u001b[39melif\u001b[39;00m \u001b[39misinstance\u001b[39m(return_result, \u001b[39mBaseException\u001b[39;00m):\n\u001b[0;32m--> 106\u001b[0m     \u001b[39mraise\u001b[39;00m return_result\n\u001b[1;32m    107\u001b[0m \u001b[39melse\u001b[39;00m:\n\u001b[1;32m    108\u001b[0m     \u001b[39mreturn\u001b[39;00m return_result\n",
      "File \u001b[0;32m~/.local/lib/python3.8/site-packages/fsspec/asyn.py:61\u001b[0m, in \u001b[0;36m_runner\u001b[0;34m(event, coro, result, timeout)\u001b[0m\n\u001b[1;32m     59\u001b[0m     coro \u001b[39m=\u001b[39m asyncio\u001b[39m.\u001b[39mwait_for(coro, timeout\u001b[39m=\u001b[39mtimeout)\n\u001b[1;32m     60\u001b[0m \u001b[39mtry\u001b[39;00m:\n\u001b[0;32m---> 61\u001b[0m     result[\u001b[39m0\u001b[39m] \u001b[39m=\u001b[39m \u001b[39mawait\u001b[39;00m coro\n\u001b[1;32m     62\u001b[0m \u001b[39mexcept\u001b[39;00m \u001b[39mException\u001b[39;00m \u001b[39mas\u001b[39;00m ex:\n\u001b[1;32m     63\u001b[0m     result[\u001b[39m0\u001b[39m] \u001b[39m=\u001b[39m ex\n",
      "File \u001b[0;32m~/.local/lib/python3.8/site-packages/gradio_client/client.py:885\u001b[0m, in \u001b[0;36mEndpoint._ws_fn\u001b[0;34m(self, data, hash_data, helper)\u001b[0m\n\u001b[1;32m    878\u001b[0m \u001b[39masync\u001b[39;00m \u001b[39mdef\u001b[39;00m \u001b[39m_ws_fn\u001b[39m(\u001b[39mself\u001b[39m, data, hash_data, helper: Communicator):\n\u001b[1;32m    879\u001b[0m     \u001b[39masync\u001b[39;00m \u001b[39mwith\u001b[39;00m websockets\u001b[39m.\u001b[39mconnect(  \u001b[39m# type: ignore\u001b[39;00m\n\u001b[1;32m    880\u001b[0m         \u001b[39mself\u001b[39m\u001b[39m.\u001b[39mclient\u001b[39m.\u001b[39mws_url,\n\u001b[1;32m    881\u001b[0m         open_timeout\u001b[39m=\u001b[39m\u001b[39m10\u001b[39m,\n\u001b[1;32m    882\u001b[0m         extra_headers\u001b[39m=\u001b[39m\u001b[39mself\u001b[39m\u001b[39m.\u001b[39mclient\u001b[39m.\u001b[39mheaders,\n\u001b[1;32m    883\u001b[0m         max_size\u001b[39m=\u001b[39m\u001b[39m1024\u001b[39m \u001b[39m*\u001b[39m \u001b[39m1024\u001b[39m \u001b[39m*\u001b[39m \u001b[39m1024\u001b[39m,\n\u001b[1;32m    884\u001b[0m     ) \u001b[39mas\u001b[39;00m websocket:\n\u001b[0;32m--> 885\u001b[0m         \u001b[39mreturn\u001b[39;00m \u001b[39mawait\u001b[39;00m utils\u001b[39m.\u001b[39mget_pred_from_ws(websocket, data, hash_data, helper)\n",
      "File \u001b[0;32m~/.local/lib/python3.8/site-packages/gradio_client/utils.py:236\u001b[0m, in \u001b[0;36mget_pred_from_ws\u001b[0;34m(websocket, data, hash_data, helper)\u001b[0m\n\u001b[1;32m    234\u001b[0m     \u001b[39m# Need to suspend this coroutine so that task actually runs\u001b[39;00m\n\u001b[1;32m    235\u001b[0m     \u001b[39mawait\u001b[39;00m asyncio\u001b[39m.\u001b[39msleep(\u001b[39m0.01\u001b[39m)\n\u001b[0;32m--> 236\u001b[0m msg \u001b[39m=\u001b[39m task\u001b[39m.\u001b[39;49mresult()\n\u001b[1;32m    237\u001b[0m resp \u001b[39m=\u001b[39m json\u001b[39m.\u001b[39mloads(msg)\n\u001b[1;32m    238\u001b[0m \u001b[39mif\u001b[39;00m helper:\n",
      "File \u001b[0;32m~/.local/lib/python3.8/site-packages/websockets/legacy/protocol.py:568\u001b[0m, in \u001b[0;36mWebSocketCommonProtocol.recv\u001b[0;34m(self)\u001b[0m\n\u001b[1;32m    564\u001b[0m             \u001b[39mreturn\u001b[39;00m \u001b[39mNone\u001b[39;00m  \u001b[39m# type: ignore\u001b[39;00m\n\u001b[1;32m    565\u001b[0m         \u001b[39melse\u001b[39;00m:\n\u001b[1;32m    566\u001b[0m             \u001b[39m# Wait until the connection is closed to raise\u001b[39;00m\n\u001b[1;32m    567\u001b[0m             \u001b[39m# ConnectionClosed with the correct code and reason.\u001b[39;00m\n\u001b[0;32m--> 568\u001b[0m             \u001b[39mawait\u001b[39;00m \u001b[39mself\u001b[39m\u001b[39m.\u001b[39mensure_open()\n\u001b[1;32m    570\u001b[0m \u001b[39m# Pop a message from the queue.\u001b[39;00m\n\u001b[1;32m    571\u001b[0m message \u001b[39m=\u001b[39m \u001b[39mself\u001b[39m\u001b[39m.\u001b[39mmessages\u001b[39m.\u001b[39mpopleft()\n",
      "File \u001b[0;32m~/.local/lib/python3.8/site-packages/websockets/legacy/protocol.py:935\u001b[0m, in \u001b[0;36mWebSocketCommonProtocol.ensure_open\u001b[0;34m(self)\u001b[0m\n\u001b[1;32m    932\u001b[0m         \u001b[39mreturn\u001b[39;00m\n\u001b[1;32m    934\u001b[0m \u001b[39mif\u001b[39;00m \u001b[39mself\u001b[39m\u001b[39m.\u001b[39mstate \u001b[39mis\u001b[39;00m State\u001b[39m.\u001b[39mCLOSED:\n\u001b[0;32m--> 935\u001b[0m     \u001b[39mraise\u001b[39;00m \u001b[39mself\u001b[39m\u001b[39m.\u001b[39mconnection_closed_exc()\n\u001b[1;32m    937\u001b[0m \u001b[39mif\u001b[39;00m \u001b[39mself\u001b[39m\u001b[39m.\u001b[39mstate \u001b[39mis\u001b[39;00m State\u001b[39m.\u001b[39mCLOSING:\n\u001b[1;32m    938\u001b[0m     \u001b[39m# If we started the closing handshake, wait for its completion to\u001b[39;00m\n\u001b[1;32m    939\u001b[0m     \u001b[39m# get the proper close code and reason. self.close_connection_task\u001b[39;00m\n\u001b[1;32m    940\u001b[0m     \u001b[39m# will complete within 4 or 5 * close_timeout after close(). The\u001b[39;00m\n\u001b[1;32m    941\u001b[0m     \u001b[39m# CLOSING state also occurs when failing the connection. In that\u001b[39;00m\n\u001b[1;32m    942\u001b[0m     \u001b[39m# case self.close_connection_task will complete even faster.\u001b[39;00m\n\u001b[1;32m    943\u001b[0m     \u001b[39mawait\u001b[39;00m asyncio\u001b[39m.\u001b[39mshield(\u001b[39mself\u001b[39m\u001b[39m.\u001b[39mclose_connection_task)\n",
      "\u001b[0;31mConnectionClosedError\u001b[0m: no close frame received or sent"
     ]
    }
   ],
   "source": [
    "from PIL import Image\n",
    "from gradio_client import Client\n",
    "client = Client(\"https://sravanth-social-media-post-generator.hf.space/\")\n",
    "result = client.predict(\n",
    "\t\t\t\t\"Memes\",\t# str (Option from: ['Memes', 'Jokes', 'Slogans', 'Inspirational Quotes']) in 'Category' Dropdown component\n",
    "\t\t\t\t\"A kid crying just after returning from school\",\t# str  in 'Image Description/prompt' Textbox component\n",
    "\t\t\t\t\"Bad results\",\t# str  in 'Theme' Textbox component\n",
    "\t\t\t\t\"top\",\t# str (Option from: ['top', 'bottom']) in 'text_position' Dropdown component\n",
    "\t\t\t\tfn_index=0\n",
    ")\n",
    "\n",
    "image_path = result[0]\n",
    "image = Image.open(image_path)\n",
    "image.show()"
   ]
  },
  {
   "cell_type": "code",
   "execution_count": null,
   "metadata": {},
   "outputs": [],
   "source": []
  }
 ],
 "metadata": {
  "kernelspec": {
   "display_name": "Python 3",
   "language": "python",
   "name": "python3"
  },
  "language_info": {
   "codemirror_mode": {
    "name": "ipython",
    "version": 3
   },
   "file_extension": ".py",
   "mimetype": "text/x-python",
   "name": "python",
   "nbconvert_exporter": "python",
   "pygments_lexer": "ipython3",
   "version": "3.8.16"
  },
  "orig_nbformat": 4
 },
 "nbformat": 4,
 "nbformat_minor": 2
}
